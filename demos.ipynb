{
 "cells": [
  {
   "cell_type": "markdown",
   "metadata": {},
   "source": [
    "# cfgen demos"
   ]
  },
  {
   "cell_type": "markdown",
   "metadata": {},
   "source": [
    "#### Import package"
   ]
  },
  {
   "cell_type": "code",
   "execution_count": 1,
   "metadata": {},
   "outputs": [
    {
     "name": "stderr",
     "output_type": "stream",
     "text": [
      "/Users/william/python_files/cfgen/cfgen/cfgen.py:40: UserWarning: Could not import language-check or LanguageTool. Rule-based post-processing will not be applied to generated text.\n",
      "  warnings.warn('Could not import language-check or LanguageTool. Rule-based' \\\n"
     ]
    }
   ],
   "source": [
    "from cfgen import GrammarModel\n",
    "\n",
    "# can turn these off:\n",
    "%load_ext autoreload\n",
    "%autoreload 2\n",
    "# %autoreload 0"
   ]
  },
  {
   "cell_type": "markdown",
   "metadata": {},
   "source": [
    "**Initialize model**"
   ]
  },
  {
   "cell_type": "code",
   "execution_count": 2,
   "metadata": {},
   "outputs": [],
   "source": [
    "CORPUS_PATH = './resources/corpora/frankenstein.txt'\n",
    "MODEL_ORDER = 2\n",
    "my_model = GrammarModel(CORPUS_PATH, MODEL_ORDER)    "
   ]
  },
  {
   "cell_type": "markdown",
   "metadata": {},
   "source": [
    "**Make a random sentence with fixed grammar**"
   ]
  },
  {
   "cell_type": "code",
   "execution_count": 3,
   "metadata": {},
   "outputs": [
    {
     "name": "stdout",
     "output_type": "stream",
     "text": [
      "Building the Grammar Model\n",
      "Time: (3.00)s\n",
      "\n",
      "and the old woman prepared of the spot . , but every i judged on the coffin .\n",
      "the great road discovered that a prison , or these country seized of the landscape .\n",
      "all man had , and the fair expressed .\n"
     ]
    }
   ],
   "source": [
    "from random import seed\n",
    "seed(5)\n",
    "\n",
    "simple_sentence = 'The cow jumped over the moon, and the little dog laughed.'\n",
    "for ii in range(3):\n",
    "    print(my_model.make_sentence(fixed_grammar=True, sample_sentence=simple_sentence))"
   ]
  },
  {
   "cell_type": "markdown",
   "metadata": {},
   "source": [
    "**Compare to a CFG without Markov**"
   ]
  },
  {
   "cell_type": "code",
   "execution_count": 4,
   "metadata": {},
   "outputs": [
    {
     "name": "stdout",
     "output_type": "stream",
     "text": [
      "and the mad land was . , the night put\n",
      "an winter enjoyed , and the dread became .\n",
      "the heart returned in these country , the difficult kindness taken in the prospect\n"
     ]
    }
   ],
   "source": [
    "from random import seed\n",
    "seed(5)\n",
    "\n",
    "simple_sentence = 'The cow jumped over the moon, and the little dog laughed.'\n",
    "\n",
    "for ii in range(3):\n",
    "    print(my_model.make_sentence(fixed_grammar=True, sample_sentence=simple_sentence, do_markov=False))"
   ]
  },
  {
   "cell_type": "markdown",
   "metadata": {},
   "source": [
    "#### Base style on a random sentence from the input text, but don't use Markov chain to select words"
   ]
  },
  {
   "cell_type": "code",
   "execution_count": 5,
   "metadata": {},
   "outputs": [
    {
     "name": "stdout",
     "output_type": "stream",
     "text": [
      "play me closer more , own .\n",
      "rendered upon the moment present affection , such cheerful that the letter wretched dear as the agony , wonderful continued to i in the prospect to which dimming expressed only taught a time .\n"
     ]
    }
   ],
   "source": [
    "from random import seed\n",
    "seed(5)\n",
    "\n",
    "for ii in range(2):\n",
    "    print(my_model.make_sentence(do_markov=False))"
   ]
  },
  {
   "cell_type": "markdown",
   "metadata": {},
   "source": [
    "#### Parse a random sentence from the input text, and use Markov chain to select words"
   ]
  },
  {
   "cell_type": "code",
   "execution_count": 9,
   "metadata": {},
   "outputs": [
    {
     "name": "stdout",
     "output_type": "stream",
     "text": [
      "play me closer more , own .\n",
      "rendered upon the dusky present affection , such cheerful that the captive possessed dear as the trial , wonderful continued to read with the mighty to which i had no taught a time .\n"
     ]
    }
   ],
   "source": [
    "from random import seed\n",
    "seed(5)\n",
    "\n",
    "for ii in range(2):\n",
    "    print(my_model.make_sentence(do_markov=True))"
   ]
  },
  {
   "cell_type": "markdown",
   "metadata": {},
   "source": [
    "#### Make a sentence using a vanilla Markov chain"
   ]
  },
  {
   "cell_type": "code",
   "execution_count": 12,
   "metadata": {},
   "outputs": [
    {
     "name": "stdout",
     "output_type": "stream",
     "text": [
      "the blast tore along like a child. dear mountains ! my father,\n",
      "untaught peasant beheld the elements of which they dressed; and these fits\n"
     ]
    }
   ],
   "source": [
    "for ii in range(2):\n",
    "    print(my_model.make_sentence_markov(10))"
   ]
  },
  {
   "cell_type": "markdown",
   "metadata": {},
   "source": [
    "### DEV"
   ]
  },
  {
   "cell_type": "markdown",
   "metadata": {},
   "source": [
    "Need to put these into setup.py:\n",
    "    \n",
    "    import nltk\n",
    "    nltk.download('punkt')\n",
    "    nltk.download('averaged_perceptron_tagger')\n",
    "    \n"
   ]
  },
  {
   "cell_type": "markdown",
   "metadata": {},
   "source": [
    "**Select a random sentence from the corpus**\n",
    "\n",
    "Issue: rare symbols that appear and cause problems when random sentences are used"
   ]
  },
  {
   "cell_type": "code",
   "execution_count": null,
   "metadata": {},
   "outputs": [],
   "source": []
  }
 ],
 "metadata": {
  "kernelspec": {
   "display_name": "Python 3",
   "language": "python",
   "name": "python3"
  },
  "language_info": {
   "codemirror_mode": {
    "name": "ipython",
    "version": 3
   },
   "file_extension": ".py",
   "mimetype": "text/x-python",
   "name": "python",
   "nbconvert_exporter": "python",
   "pygments_lexer": "ipython3",
   "version": "3.7.2"
  }
 },
 "nbformat": 4,
 "nbformat_minor": 1
}
